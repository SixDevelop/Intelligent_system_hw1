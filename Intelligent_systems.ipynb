{
  "nbformat": 4,
  "nbformat_minor": 0,
  "metadata": {
    "colab": {
      "name": "Intelligent_systems.ipynb",
      "provenance": [],
      "authorship_tag": "ABX9TyO/QV6jA4CSfuMREIYRyohB",
      "include_colab_link": true
    },
    "kernelspec": {
      "name": "python3",
      "display_name": "Python 3"
    },
    "language_info": {
      "name": "python"
    }
  },
  "cells": [
    {
      "cell_type": "markdown",
      "metadata": {
        "id": "view-in-github",
        "colab_type": "text"
      },
      "source": [
        "<a href=\"https://colab.research.google.com/github/SixDevelop/Intelligent_system_hw1/blob/main/Intelligent_systems.ipynb\" target=\"_parent\"><img src=\"https://colab.research.google.com/assets/colab-badge.svg\" alt=\"Open In Colab\"/></a>"
      ]
    },
    {
      "cell_type": "markdown",
      "metadata": {
        "id": "2FX4JNck-v3e"
      },
      "source": [
        "# Импорты библиотек"
      ]
    },
    {
      "cell_type": "code",
      "metadata": {
        "id": "DeMN6NZ1-5cR"
      },
      "source": [
        "import pandas as pd\n",
        "import numpy as np\n",
        "import matplotlib.pyplot as plt\n",
        "import seaborn as sns\n",
        "from collections import Counter\n",
        "\n",
        "import warnings\n",
        "warnings.filterwarnings('ignore')"
      ],
      "execution_count": 1,
      "outputs": []
    },
    {
      "cell_type": "markdown",
      "metadata": {
        "id": "o4m2MG3R_Ooo"
      },
      "source": [
        "# Добавление датасета"
      ]
    },
    {
      "cell_type": "code",
      "metadata": {
        "colab": {
          "base_uri": "https://localhost:8080/",
          "height": 204
        },
        "id": "beJLQqHl_Ume",
        "outputId": "9215cdd8-39e3-4e3a-b62d-a844306a5142"
      },
      "source": [
        "dataset_url = \"https://raw.githubusercontent.com/justmarkham/DAT8/master/data/chipotle.tsv\"\n",
        "data = pd.read_csv(dataset_url, sep='\\t')\n",
        "data.head()"
      ],
      "execution_count": 2,
      "outputs": [
        {
          "output_type": "execute_result",
          "data": {
            "text/html": [
              "<div>\n",
              "<style scoped>\n",
              "    .dataframe tbody tr th:only-of-type {\n",
              "        vertical-align: middle;\n",
              "    }\n",
              "\n",
              "    .dataframe tbody tr th {\n",
              "        vertical-align: top;\n",
              "    }\n",
              "\n",
              "    .dataframe thead th {\n",
              "        text-align: right;\n",
              "    }\n",
              "</style>\n",
              "<table border=\"1\" class=\"dataframe\">\n",
              "  <thead>\n",
              "    <tr style=\"text-align: right;\">\n",
              "      <th></th>\n",
              "      <th>order_id</th>\n",
              "      <th>quantity</th>\n",
              "      <th>item_name</th>\n",
              "      <th>choice_description</th>\n",
              "      <th>item_price</th>\n",
              "    </tr>\n",
              "  </thead>\n",
              "  <tbody>\n",
              "    <tr>\n",
              "      <th>0</th>\n",
              "      <td>1</td>\n",
              "      <td>1</td>\n",
              "      <td>Chips and Fresh Tomato Salsa</td>\n",
              "      <td>NaN</td>\n",
              "      <td>$2.39</td>\n",
              "    </tr>\n",
              "    <tr>\n",
              "      <th>1</th>\n",
              "      <td>1</td>\n",
              "      <td>1</td>\n",
              "      <td>Izze</td>\n",
              "      <td>[Clementine]</td>\n",
              "      <td>$3.39</td>\n",
              "    </tr>\n",
              "    <tr>\n",
              "      <th>2</th>\n",
              "      <td>1</td>\n",
              "      <td>1</td>\n",
              "      <td>Nantucket Nectar</td>\n",
              "      <td>[Apple]</td>\n",
              "      <td>$3.39</td>\n",
              "    </tr>\n",
              "    <tr>\n",
              "      <th>3</th>\n",
              "      <td>1</td>\n",
              "      <td>1</td>\n",
              "      <td>Chips and Tomatillo-Green Chili Salsa</td>\n",
              "      <td>NaN</td>\n",
              "      <td>$2.39</td>\n",
              "    </tr>\n",
              "    <tr>\n",
              "      <th>4</th>\n",
              "      <td>2</td>\n",
              "      <td>2</td>\n",
              "      <td>Chicken Bowl</td>\n",
              "      <td>[Tomatillo-Red Chili Salsa (Hot), [Black Beans...</td>\n",
              "      <td>$16.98</td>\n",
              "    </tr>\n",
              "  </tbody>\n",
              "</table>\n",
              "</div>"
            ],
            "text/plain": [
              "   order_id  ...  item_price\n",
              "0         1  ...      $2.39 \n",
              "1         1  ...      $3.39 \n",
              "2         1  ...      $3.39 \n",
              "3         1  ...      $2.39 \n",
              "4         2  ...     $16.98 \n",
              "\n",
              "[5 rows x 5 columns]"
            ]
          },
          "metadata": {},
          "execution_count": 2
        }
      ]
    },
    {
      "cell_type": "markdown",
      "metadata": {
        "id": "asD1FJH7_jFi"
      },
      "source": [
        "# 1. Вывести: количество наблюдений в датасете"
      ]
    },
    {
      "cell_type": "code",
      "metadata": {
        "colab": {
          "base_uri": "https://localhost:8080/"
        },
        "id": "-_vQeDHa_pyS",
        "outputId": "c5a7b779-25f7-40c0-9d1b-a6e20281685b"
      },
      "source": [
        "data.shape[0]"
      ],
      "execution_count": 3,
      "outputs": [
        {
          "output_type": "execute_result",
          "data": {
            "text/plain": [
              "4622"
            ]
          },
          "metadata": {},
          "execution_count": 3
        }
      ]
    },
    {
      "cell_type": "markdown",
      "metadata": {
        "id": "9a3F1n08_xB1"
      },
      "source": [
        "# 2. Вывести названия столбцов"
      ]
    },
    {
      "cell_type": "code",
      "metadata": {
        "colab": {
          "base_uri": "https://localhost:8080/"
        },
        "id": "iMn0Tahn_0_f",
        "outputId": "7d38011d-a1fd-48cd-95d3-73892214da8b"
      },
      "source": [
        "list(data.columns)"
      ],
      "execution_count": 4,
      "outputs": [
        {
          "output_type": "execute_result",
          "data": {
            "text/plain": [
              "['order_id', 'quantity', 'item_name', 'choice_description', 'item_price']"
            ]
          },
          "metadata": {},
          "execution_count": 4
        }
      ]
    },
    {
      "cell_type": "markdown",
      "metadata": {
        "id": "dMibpWfT_7Ef"
      },
      "source": [
        "# 3. Определить самую частую позицию (item) в заказе"
      ]
    },
    {
      "cell_type": "code",
      "metadata": {
        "colab": {
          "base_uri": "https://localhost:8080/",
          "height": 37
        },
        "id": "AXqbsIfUABtD",
        "outputId": "2ba336f2-7083-4ed0-ad00-13a8e39ccd13"
      },
      "source": [
        "data['item_name'].value_counts(normalize = True).index.tolist()[0]"
      ],
      "execution_count": 5,
      "outputs": [
        {
          "output_type": "execute_result",
          "data": {
            "application/vnd.google.colaboratory.intrinsic+json": {
              "type": "string"
            },
            "text/plain": [
              "'Chicken Bowl'"
            ]
          },
          "metadata": {},
          "execution_count": 5
        }
      ]
    },
    {
      "cell_type": "markdown",
      "metadata": {
        "id": "ULK-wLYJAFE1"
      },
      "source": [
        "# 4. Построить гистограмму частоты заказов по позициям (item)"
      ]
    },
    {
      "cell_type": "code",
      "metadata": {
        "colab": {
          "base_uri": "https://localhost:8080/",
          "height": 907
        },
        "id": "M8XHi3U3AJoX",
        "outputId": "6a7e1944-3cf9-407f-ac2c-0c3d961a5e6d"
      },
      "source": [
        "items = Counter(data.item_name)\n",
        "srs = pd.DataFrame.from_dict(items, orient='index')\n",
        "srs = srs[0].sort_values(ascending=True)\n",
        "\n",
        "srs.plot(kind='bar', figsize=(18, 12))\n",
        "plt.xlabel('Items')\n",
        "plt.ylabel('Frequency')\n",
        "plt.title('Ordered items frequency')\n",
        "plt.show()"
      ],
      "execution_count": 8,
      "outputs": [
        {
          "output_type": "display_data",
          "data": {
            "image/png": "[encoded data removed]",
            "text/plain": [
              "<Figure size 1296x864 with 1 Axes>"
            ]
          },
          "metadata": {
            "needs_background": "light"
          }
        }
      ]
    },
    {
      "cell_type": "markdown",
      "metadata": {
        "id": "x39O_ZUsASee"
      },
      "source": [
        "# 5. Изменить тип переменной item_price c с помощью лямбды функции"
      ]
    },
    {
      "cell_type": "code",
      "metadata": {
        "id": "Dvuen8YqAXkc"
      },
      "source": [
        "data['item_price'] = data.apply(\n",
        "    lambda x: float(x['item_price'].replace('$', '')),\n",
        "    axis=1\n",
        ")"
      ],
      "execution_count": 7,
      "outputs": []
    },
    {
      "cell_type": "markdown",
      "metadata": {
        "id": "_trEuCLKAhrU"
      },
      "source": [
        "# 6. Построить гистограмму кол-во денег заработанных по каждой позиции (item)"
      ]
    },
    {
      "cell_type": "code",
      "metadata": {
        "colab": {
          "base_uri": "https://localhost:8080/",
          "height": 907
        },
        "id": "3OSGtIauAkRl",
        "outputId": "54792938-5bf9-46a5-e9f3-7900d24352ed"
      },
      "source": [
        "srs = data[['item_name', 'item_price']]\n",
        "srs = srs.groupby('item_name').sum()\n",
        "\n",
        "srs.plot(kind='bar', figsize=(18, 12))\n",
        "plt.xlabel('Items')\n",
        "plt.ylabel('Earned')\n",
        "plt.title('Money earned per each item')\n",
        "plt.show()"
      ],
      "execution_count": 9,
      "outputs": [
        {
          "output_type": "display_data",
          "data": {
            "image/png": "[encoded data removed]",
            "text/plain": [
              "<Figure size 1296x864 with 1 Axes>"
            ]
          },
          "metadata": {
            "needs_background": "light"
          }
        }
      ]
    },
    {
      "cell_type": "markdown",
      "metadata": {
        "id": "qg5w2R6qAvoF"
      },
      "source": [
        "# 7. Средняя сумма заказа? (минимум 2 способа)"
      ]
    },
    {
      "cell_type": "markdown",
      "metadata": {
        "id": "wEsHXC6fA07W"
      },
      "source": [
        "1 способ"
      ]
    },
    {
      "cell_type": "code",
      "metadata": {
        "colab": {
          "base_uri": "https://localhost:8080/"
        },
        "id": "NOiaDjNMAxOW",
        "outputId": "f7b88255-063d-4556-9740-99a4591b1a91"
      },
      "source": [
        "average_price = round(\n",
        "    data.item_price.sum() / data.order_id.nunique(),\n",
        "    2\n",
        ")\n",
        "average_price"
      ],
      "execution_count": 12,
      "outputs": [
        {
          "output_type": "execute_result",
          "data": {
            "text/plain": [
              "18.81"
            ]
          },
          "metadata": {},
          "execution_count": 12
        }
      ]
    },
    {
      "cell_type": "markdown",
      "metadata": {
        "id": "DSefTiFoA2t8"
      },
      "source": [
        "2 способ"
      ]
    },
    {
      "cell_type": "code",
      "metadata": {
        "colab": {
          "base_uri": "https://localhost:8080/"
        },
        "id": "Slx39f9jA5F_",
        "outputId": "8f8a36c9-c0f5-4e64-d540-4abb462b5989"
      },
      "source": [
        "average_price = round(\n",
        "    data.groupby(\n",
        "        'order_id',\n",
        "        sort=False\n",
        "    ).item_price.sum().mean(),\n",
        "    2\n",
        ")\n",
        "average_price\n"
      ],
      "execution_count": 16,
      "outputs": [
        {
          "output_type": "execute_result",
          "data": {
            "text/plain": [
              "18.81"
            ]
          },
          "metadata": {},
          "execution_count": 16
        }
      ]
    },
    {
      "cell_type": "markdown",
      "metadata": {
        "id": "Y6eRSVPWBPE4"
      },
      "source": [
        "# 8. Выведите среднее, минимальное и максимальное, медианное значения позиций в заказе"
      ]
    },
    {
      "cell_type": "code",
      "metadata": {
        "colab": {
          "base_uri": "https://localhost:8080/",
          "height": 173
        },
        "id": "Impb1YAWBUaG",
        "outputId": "3e7c6dba-5c21-4e94-cb7c-accd7fb39397"
      },
      "source": [
        "group = data.groupby('order_id', sort=False).item_name.nunique().reset_index()\n",
        "group.agg(\n",
        "    {\n",
        "        'item_name': ['mean', 'min', 'max', 'median']\n",
        "    }\n",
        ")"
      ],
      "execution_count": 17,
      "outputs": [
        {
          "output_type": "execute_result",
          "data": {
            "text/html": [
              "<div>\n",
              "<style scoped>\n",
              "    .dataframe tbody tr th:only-of-type {\n",
              "        vertical-align: middle;\n",
              "    }\n",
              "\n",
              "    .dataframe tbody tr th {\n",
              "        vertical-align: top;\n",
              "    }\n",
              "\n",
              "    .dataframe thead th {\n",
              "        text-align: right;\n",
              "    }\n",
              "</style>\n",
              "<table border=\"1\" class=\"dataframe\">\n",
              "  <thead>\n",
              "    <tr style=\"text-align: right;\">\n",
              "      <th></th>\n",
              "      <th>item_name</th>\n",
              "    </tr>\n",
              "  </thead>\n",
              "  <tbody>\n",
              "    <tr>\n",
              "      <th>mean</th>\n",
              "      <td>2.34024</td>\n",
              "    </tr>\n",
              "    <tr>\n",
              "      <th>min</th>\n",
              "      <td>1.00000</td>\n",
              "    </tr>\n",
              "    <tr>\n",
              "      <th>max</th>\n",
              "      <td>8.00000</td>\n",
              "    </tr>\n",
              "    <tr>\n",
              "      <th>median</th>\n",
              "      <td>2.00000</td>\n",
              "    </tr>\n",
              "  </tbody>\n",
              "</table>\n",
              "</div>"
            ],
            "text/plain": [
              "        item_name\n",
              "mean      2.34024\n",
              "min       1.00000\n",
              "max       8.00000\n",
              "median    2.00000"
            ]
          },
          "metadata": {},
          "execution_count": 17
        }
      ]
    },
    {
      "cell_type": "markdown",
      "metadata": {
        "id": "Qr1KB1AvBXzw"
      },
      "source": [
        "# 9. Определить статистику заказов стейков, а также статистику заказов прожарки."
      ]
    },
    {
      "cell_type": "code",
      "metadata": {
        "colab": {
          "base_uri": "https://localhost:8080/",
          "height": 297
        },
        "id": "mvECTyUmBcGm",
        "outputId": "7a7f504e-6155-4ecb-a12b-609fb249a6c9"
      },
      "source": [
        "steaks = data.loc[data['item_name'].str.contains('Steak')]\n",
        "steaks.groupby('item_name')['quantity', 'item_price'].describe()"
      ],
      "execution_count": 18,
      "outputs": [
        {
          "output_type": "execute_result",
          "data": {
            "text/html": [
              "<div>\n",
              "<style scoped>\n",
              "    .dataframe tbody tr th:only-of-type {\n",
              "        vertical-align: middle;\n",
              "    }\n",
              "\n",
              "    .dataframe tbody tr th {\n",
              "        vertical-align: top;\n",
              "    }\n",
              "\n",
              "    .dataframe thead tr th {\n",
              "        text-align: left;\n",
              "    }\n",
              "\n",
              "    .dataframe thead tr:last-of-type th {\n",
              "        text-align: right;\n",
              "    }\n",
              "</style>\n",
              "<table border=\"1\" class=\"dataframe\">\n",
              "  <thead>\n",
              "    <tr>\n",
              "      <th></th>\n",
              "      <th colspan=\"8\" halign=\"left\">quantity</th>\n",
              "      <th colspan=\"8\" halign=\"left\">item_price</th>\n",
              "    </tr>\n",
              "    <tr>\n",
              "      <th></th>\n",
              "      <th>count</th>\n",
              "      <th>mean</th>\n",
              "      <th>std</th>\n",
              "      <th>min</th>\n",
              "      <th>25%</th>\n",
              "      <th>50%</th>\n",
              "      <th>75%</th>\n",
              "      <th>max</th>\n",
              "      <th>count</th>\n",
              "      <th>mean</th>\n",
              "      <th>std</th>\n",
              "      <th>min</th>\n",
              "      <th>25%</th>\n",
              "      <th>50%</th>\n",
              "      <th>75%</th>\n",
              "      <th>max</th>\n",
              "    </tr>\n",
              "    <tr>\n",
              "      <th>item_name</th>\n",
              "      <th></th>\n",
              "      <th></th>\n",
              "      <th></th>\n",
              "      <th></th>\n",
              "      <th></th>\n",
              "      <th></th>\n",
              "      <th></th>\n",
              "      <th></th>\n",
              "      <th></th>\n",
              "      <th></th>\n",
              "      <th></th>\n",
              "      <th></th>\n",
              "      <th></th>\n",
              "      <th></th>\n",
              "      <th></th>\n",
              "      <th></th>\n",
              "    </tr>\n",
              "  </thead>\n",
              "  <tbody>\n",
              "    <tr>\n",
              "      <th>Steak Bowl</th>\n",
              "      <td>211.0</td>\n",
              "      <td>1.047393</td>\n",
              "      <td>0.234278</td>\n",
              "      <td>1.0</td>\n",
              "      <td>1.0</td>\n",
              "      <td>1.0</td>\n",
              "      <td>1.0</td>\n",
              "      <td>3.0</td>\n",
              "      <td>211.0</td>\n",
              "      <td>10.711801</td>\n",
              "      <td>2.672417</td>\n",
              "      <td>8.69</td>\n",
              "      <td>9.250</td>\n",
              "      <td>9.25</td>\n",
              "      <td>11.75</td>\n",
              "      <td>26.07</td>\n",
              "    </tr>\n",
              "    <tr>\n",
              "      <th>Steak Burrito</th>\n",
              "      <td>368.0</td>\n",
              "      <td>1.048913</td>\n",
              "      <td>0.239889</td>\n",
              "      <td>1.0</td>\n",
              "      <td>1.0</td>\n",
              "      <td>1.0</td>\n",
              "      <td>1.0</td>\n",
              "      <td>3.0</td>\n",
              "      <td>368.0</td>\n",
              "      <td>10.465842</td>\n",
              "      <td>2.571981</td>\n",
              "      <td>8.69</td>\n",
              "      <td>8.990</td>\n",
              "      <td>9.25</td>\n",
              "      <td>11.75</td>\n",
              "      <td>27.75</td>\n",
              "    </tr>\n",
              "    <tr>\n",
              "      <th>Steak Crispy Tacos</th>\n",
              "      <td>35.0</td>\n",
              "      <td>1.028571</td>\n",
              "      <td>0.169031</td>\n",
              "      <td>1.0</td>\n",
              "      <td>1.0</td>\n",
              "      <td>1.0</td>\n",
              "      <td>1.0</td>\n",
              "      <td>2.0</td>\n",
              "      <td>35.0</td>\n",
              "      <td>10.209714</td>\n",
              "      <td>1.827732</td>\n",
              "      <td>8.69</td>\n",
              "      <td>9.120</td>\n",
              "      <td>9.25</td>\n",
              "      <td>11.75</td>\n",
              "      <td>17.98</td>\n",
              "    </tr>\n",
              "    <tr>\n",
              "      <th>Steak Salad</th>\n",
              "      <td>4.0</td>\n",
              "      <td>1.000000</td>\n",
              "      <td>0.000000</td>\n",
              "      <td>1.0</td>\n",
              "      <td>1.0</td>\n",
              "      <td>1.0</td>\n",
              "      <td>1.0</td>\n",
              "      <td>1.0</td>\n",
              "      <td>4.0</td>\n",
              "      <td>8.915000</td>\n",
              "      <td>0.150000</td>\n",
              "      <td>8.69</td>\n",
              "      <td>8.915</td>\n",
              "      <td>8.99</td>\n",
              "      <td>8.99</td>\n",
              "      <td>8.99</td>\n",
              "    </tr>\n",
              "    <tr>\n",
              "      <th>Steak Salad Bowl</th>\n",
              "      <td>29.0</td>\n",
              "      <td>1.068966</td>\n",
              "      <td>0.257881</td>\n",
              "      <td>1.0</td>\n",
              "      <td>1.0</td>\n",
              "      <td>1.0</td>\n",
              "      <td>1.0</td>\n",
              "      <td>2.0</td>\n",
              "      <td>29.0</td>\n",
              "      <td>11.847931</td>\n",
              "      <td>3.511170</td>\n",
              "      <td>9.39</td>\n",
              "      <td>9.390</td>\n",
              "      <td>11.89</td>\n",
              "      <td>11.89</td>\n",
              "      <td>23.78</td>\n",
              "    </tr>\n",
              "    <tr>\n",
              "      <th>Steak Soft Tacos</th>\n",
              "      <td>55.0</td>\n",
              "      <td>1.018182</td>\n",
              "      <td>0.134840</td>\n",
              "      <td>1.0</td>\n",
              "      <td>1.0</td>\n",
              "      <td>1.0</td>\n",
              "      <td>1.0</td>\n",
              "      <td>2.0</td>\n",
              "      <td>55.0</td>\n",
              "      <td>9.746364</td>\n",
              "      <td>1.523743</td>\n",
              "      <td>8.99</td>\n",
              "      <td>9.120</td>\n",
              "      <td>9.25</td>\n",
              "      <td>9.25</td>\n",
              "      <td>18.50</td>\n",
              "    </tr>\n",
              "  </tbody>\n",
              "</table>\n",
              "</div>"
            ],
            "text/plain": [
              "                   quantity                      ... item_price              \n",
              "                      count      mean       std  ...        50%    75%    max\n",
              "item_name                                        ...                         \n",
              "Steak Bowl            211.0  1.047393  0.234278  ...       9.25  11.75  26.07\n",
              "Steak Burrito         368.0  1.048913  0.239889  ...       9.25  11.75  27.75\n",
              "Steak Crispy Tacos     35.0  1.028571  0.169031  ...       9.25  11.75  17.98\n",
              "Steak Salad             4.0  1.000000  0.000000  ...       8.99   8.99   8.99\n",
              "Steak Salad Bowl       29.0  1.068966  0.257881  ...      11.89  11.89  23.78\n",
              "Steak Soft Tacos       55.0  1.018182  0.134840  ...       9.25   9.25  18.50\n",
              "\n",
              "[6 rows x 16 columns]"
            ]
          },
          "metadata": {},
          "execution_count": 18
        }
      ]
    },
    {
      "cell_type": "markdown",
      "metadata": {
        "id": "cmp4pIAYBfOv"
      },
      "source": [
        "# 10. Добавить новый столбец цен на каждую позицию в заказе в рублях."
      ]
    },
    {
      "cell_type": "code",
      "metadata": {
        "id": "7ZpZ8Xv4BjqR"
      },
      "source": [
        "data['r_price'] = round(data.item_price * 71.55, 2)"
      ],
      "execution_count": 21,
      "outputs": []
    },
    {
      "cell_type": "markdown",
      "metadata": {
        "id": "l4W9moTuBuvK"
      },
      "source": [
        "# 11. Сгруппировать заказы по входящим позициям в него. Отдельно сгруппировать по стейкам во всех видах прожарках."
      ]
    },
    {
      "cell_type": "markdown",
      "metadata": {
        "id": "kGErgYCoCSFk"
      },
      "source": [
        "1. Заказы по входящим позициям"
      ]
    },
    {
      "cell_type": "code",
      "metadata": {
        "colab": {
          "base_uri": "https://localhost:8080/",
          "height": 450
        },
        "id": "PGcZWHaABzxc",
        "outputId": "e689fa71-fa0a-482c-861c-653a9b0e3b57"
      },
      "source": [
        "group_by_items = data.groupby('order_id', sort=False).agg(\n",
        "    {\n",
        "        'item_name': lambda x: \", \".join(x),\n",
        "        'item_price': np.sum,\n",
        "        'r_price': np.sum,\n",
        "        'quantity': np.sum\n",
        "    }\n",
        ")\n",
        "\n",
        "group_by_items[['quantity', 'item_name', 'item_price', 'r_price']]"
      ],
      "execution_count": 24,
      "outputs": [
        {
          "output_type": "execute_result",
          "data": {
            "text/html": [
              "<div>\n",
              "<style scoped>\n",
              "    .dataframe tbody tr th:only-of-type {\n",
              "        vertical-align: middle;\n",
              "    }\n",
              "\n",
              "    .dataframe tbody tr th {\n",
              "        vertical-align: top;\n",
              "    }\n",
              "\n",
              "    .dataframe thead th {\n",
              "        text-align: right;\n",
              "    }\n",
              "</style>\n",
              "<table border=\"1\" class=\"dataframe\">\n",
              "  <thead>\n",
              "    <tr style=\"text-align: right;\">\n",
              "      <th></th>\n",
              "      <th>quantity</th>\n",
              "      <th>item_name</th>\n",
              "      <th>item_price</th>\n",
              "      <th>r_price</th>\n",
              "    </tr>\n",
              "    <tr>\n",
              "      <th>order_id</th>\n",
              "      <th></th>\n",
              "      <th></th>\n",
              "      <th></th>\n",
              "      <th></th>\n",
              "    </tr>\n",
              "  </thead>\n",
              "  <tbody>\n",
              "    <tr>\n",
              "      <th>1</th>\n",
              "      <td>4</td>\n",
              "      <td>Chips and Fresh Tomato Salsa, Izze, Nantucket ...</td>\n",
              "      <td>11.56</td>\n",
              "      <td>827.10</td>\n",
              "    </tr>\n",
              "    <tr>\n",
              "      <th>2</th>\n",
              "      <td>2</td>\n",
              "      <td>Chicken Bowl</td>\n",
              "      <td>16.98</td>\n",
              "      <td>1214.92</td>\n",
              "    </tr>\n",
              "    <tr>\n",
              "      <th>3</th>\n",
              "      <td>2</td>\n",
              "      <td>Chicken Bowl, Side of Chips</td>\n",
              "      <td>12.67</td>\n",
              "      <td>906.54</td>\n",
              "    </tr>\n",
              "    <tr>\n",
              "      <th>4</th>\n",
              "      <td>2</td>\n",
              "      <td>Steak Burrito, Steak Soft Tacos</td>\n",
              "      <td>21.00</td>\n",
              "      <td>1502.55</td>\n",
              "    </tr>\n",
              "    <tr>\n",
              "      <th>5</th>\n",
              "      <td>2</td>\n",
              "      <td>Steak Burrito, Chips and Guacamole</td>\n",
              "      <td>13.70</td>\n",
              "      <td>980.24</td>\n",
              "    </tr>\n",
              "    <tr>\n",
              "      <th>...</th>\n",
              "      <td>...</td>\n",
              "      <td>...</td>\n",
              "      <td>...</td>\n",
              "      <td>...</td>\n",
              "    </tr>\n",
              "    <tr>\n",
              "      <th>1830</th>\n",
              "      <td>2</td>\n",
              "      <td>Steak Burrito, Veggie Burrito</td>\n",
              "      <td>23.00</td>\n",
              "      <td>1645.65</td>\n",
              "    </tr>\n",
              "    <tr>\n",
              "      <th>1831</th>\n",
              "      <td>3</td>\n",
              "      <td>Carnitas Bowl, Chips, Bottled Water</td>\n",
              "      <td>12.90</td>\n",
              "      <td>922.99</td>\n",
              "    </tr>\n",
              "    <tr>\n",
              "      <th>1832</th>\n",
              "      <td>2</td>\n",
              "      <td>Chicken Soft Tacos, Chips and Guacamole</td>\n",
              "      <td>13.20</td>\n",
              "      <td>944.46</td>\n",
              "    </tr>\n",
              "    <tr>\n",
              "      <th>1833</th>\n",
              "      <td>2</td>\n",
              "      <td>Steak Burrito, Steak Burrito</td>\n",
              "      <td>23.50</td>\n",
              "      <td>1681.42</td>\n",
              "    </tr>\n",
              "    <tr>\n",
              "      <th>1834</th>\n",
              "      <td>3</td>\n",
              "      <td>Chicken Salad Bowl, Chicken Salad Bowl, Chicke...</td>\n",
              "      <td>28.75</td>\n",
              "      <td>2057.06</td>\n",
              "    </tr>\n",
              "  </tbody>\n",
              "</table>\n",
              "<p>1834 rows × 4 columns</p>\n",
              "</div>"
            ],
            "text/plain": [
              "          quantity  ...  r_price\n",
              "order_id            ...         \n",
              "1                4  ...   827.10\n",
              "2                2  ...  1214.92\n",
              "3                2  ...   906.54\n",
              "4                2  ...  1502.55\n",
              "5                2  ...   980.24\n",
              "...            ...  ...      ...\n",
              "1830             2  ...  1645.65\n",
              "1831             3  ...   922.99\n",
              "1832             2  ...   944.46\n",
              "1833             2  ...  1681.42\n",
              "1834             3  ...  2057.06\n",
              "\n",
              "[1834 rows x 4 columns]"
            ]
          },
          "metadata": {},
          "execution_count": 24
        }
      ]
    },
    {
      "cell_type": "markdown",
      "metadata": {
        "id": "rTUFuBhNCVN0"
      },
      "source": [
        "2. Стейки во свсех видах прожарки."
      ]
    },
    {
      "cell_type": "code",
      "metadata": {
        "colab": {
          "base_uri": "https://localhost:8080/",
          "height": 450
        },
        "id": "mqJmISBhCltA",
        "outputId": "5e742b1d-7ac1-45f0-b3d0-535f5dcc081c"
      },
      "source": [
        "steaks.groupby('order_id').agg({'quantity':np.sum,\n",
        "                                'item_name': lambda x: \", \".join(x), \n",
        "                                'item_price': np.sum})"
      ],
      "execution_count": 29,
      "outputs": [
        {
          "output_type": "execute_result",
          "data": {
            "text/html": [
              "<div>\n",
              "<style scoped>\n",
              "    .dataframe tbody tr th:only-of-type {\n",
              "        vertical-align: middle;\n",
              "    }\n",
              "\n",
              "    .dataframe tbody tr th {\n",
              "        vertical-align: top;\n",
              "    }\n",
              "\n",
              "    .dataframe thead th {\n",
              "        text-align: right;\n",
              "    }\n",
              "</style>\n",
              "<table border=\"1\" class=\"dataframe\">\n",
              "  <thead>\n",
              "    <tr style=\"text-align: right;\">\n",
              "      <th></th>\n",
              "      <th>quantity</th>\n",
              "      <th>item_name</th>\n",
              "      <th>item_price</th>\n",
              "    </tr>\n",
              "    <tr>\n",
              "      <th>order_id</th>\n",
              "      <th></th>\n",
              "      <th></th>\n",
              "      <th></th>\n",
              "    </tr>\n",
              "  </thead>\n",
              "  <tbody>\n",
              "    <tr>\n",
              "      <th>4</th>\n",
              "      <td>2</td>\n",
              "      <td>Steak Burrito, Steak Soft Tacos</td>\n",
              "      <td>21.00</td>\n",
              "    </tr>\n",
              "    <tr>\n",
              "      <th>5</th>\n",
              "      <td>1</td>\n",
              "      <td>Steak Burrito</td>\n",
              "      <td>9.25</td>\n",
              "    </tr>\n",
              "    <tr>\n",
              "      <th>16</th>\n",
              "      <td>1</td>\n",
              "      <td>Steak Burrito</td>\n",
              "      <td>8.99</td>\n",
              "    </tr>\n",
              "    <tr>\n",
              "      <th>20</th>\n",
              "      <td>1</td>\n",
              "      <td>Steak Burrito</td>\n",
              "      <td>11.75</td>\n",
              "    </tr>\n",
              "    <tr>\n",
              "      <th>21</th>\n",
              "      <td>1</td>\n",
              "      <td>Steak Burrito</td>\n",
              "      <td>8.99</td>\n",
              "    </tr>\n",
              "    <tr>\n",
              "      <th>...</th>\n",
              "      <td>...</td>\n",
              "      <td>...</td>\n",
              "      <td>...</td>\n",
              "    </tr>\n",
              "    <tr>\n",
              "      <th>1810</th>\n",
              "      <td>1</td>\n",
              "      <td>Steak Crispy Tacos</td>\n",
              "      <td>11.75</td>\n",
              "    </tr>\n",
              "    <tr>\n",
              "      <th>1818</th>\n",
              "      <td>1</td>\n",
              "      <td>Steak Salad Bowl</td>\n",
              "      <td>9.39</td>\n",
              "    </tr>\n",
              "    <tr>\n",
              "      <th>1829</th>\n",
              "      <td>1</td>\n",
              "      <td>Steak Burrito</td>\n",
              "      <td>11.75</td>\n",
              "    </tr>\n",
              "    <tr>\n",
              "      <th>1830</th>\n",
              "      <td>1</td>\n",
              "      <td>Steak Burrito</td>\n",
              "      <td>11.75</td>\n",
              "    </tr>\n",
              "    <tr>\n",
              "      <th>1833</th>\n",
              "      <td>2</td>\n",
              "      <td>Steak Burrito, Steak Burrito</td>\n",
              "      <td>23.50</td>\n",
              "    </tr>\n",
              "  </tbody>\n",
              "</table>\n",
              "<p>612 rows × 3 columns</p>\n",
              "</div>"
            ],
            "text/plain": [
              "          quantity                        item_name  item_price\n",
              "order_id                                                       \n",
              "4                2  Steak Burrito, Steak Soft Tacos       21.00\n",
              "5                1                    Steak Burrito        9.25\n",
              "16               1                    Steak Burrito        8.99\n",
              "20               1                    Steak Burrito       11.75\n",
              "21               1                    Steak Burrito        8.99\n",
              "...            ...                              ...         ...\n",
              "1810             1               Steak Crispy Tacos       11.75\n",
              "1818             1                 Steak Salad Bowl        9.39\n",
              "1829             1                    Steak Burrito       11.75\n",
              "1830             1                    Steak Burrito       11.75\n",
              "1833             2     Steak Burrito, Steak Burrito       23.50\n",
              "\n",
              "[612 rows x 3 columns]"
            ]
          },
          "metadata": {},
          "execution_count": 29
        }
      ]
    },
    {
      "cell_type": "markdown",
      "metadata": {
        "id": "nRb3PQW9DGGb"
      },
      "source": [
        "# 12. Определить цену по каждой позиции в отдельности."
      ]
    },
    {
      "cell_type": "code",
      "metadata": {
        "colab": {
          "base_uri": "https://localhost:8080/",
          "height": 1000
        },
        "id": "SJqFmKPyDHyd",
        "outputId": "75e0f03c-0654-4ba0-857a-efafc8e3d3f1"
      },
      "source": [
        "data['price_per_item'] = round(\n",
        "    data['item_price'] / data['quantity'],\n",
        "    2\n",
        ")\n",
        "\n",
        "data.groupby(['item_name']).agg(\n",
        "    {\n",
        "        'price_per_item': lambda x: x.unique()\n",
        "    }\n",
        ")"
      ],
      "execution_count": 30,
      "outputs": [
        {
          "output_type": "execute_result",
          "data": {
            "text/html": [
              "<div>\n",
              "<style scoped>\n",
              "    .dataframe tbody tr th:only-of-type {\n",
              "        vertical-align: middle;\n",
              "    }\n",
              "\n",
              "    .dataframe tbody tr th {\n",
              "        vertical-align: top;\n",
              "    }\n",
              "\n",
              "    .dataframe thead th {\n",
              "        text-align: right;\n",
              "    }\n",
              "</style>\n",
              "<table border=\"1\" class=\"dataframe\">\n",
              "  <thead>\n",
              "    <tr style=\"text-align: right;\">\n",
              "      <th></th>\n",
              "      <th>price_per_item</th>\n",
              "    </tr>\n",
              "    <tr>\n",
              "      <th>item_name</th>\n",
              "      <th></th>\n",
              "    </tr>\n",
              "  </thead>\n",
              "  <tbody>\n",
              "    <tr>\n",
              "      <th>6 Pack Soft Drink</th>\n",
              "      <td>6.49</td>\n",
              "    </tr>\n",
              "    <tr>\n",
              "      <th>Barbacoa Bowl</th>\n",
              "      <td>[11.75, 9.25, 8.99, 11.48, 8.69, 11.49]</td>\n",
              "    </tr>\n",
              "    <tr>\n",
              "      <th>Barbacoa Burrito</th>\n",
              "      <td>[8.99, 9.25, 11.75, 11.08, 8.69, 11.48]</td>\n",
              "    </tr>\n",
              "    <tr>\n",
              "      <th>Barbacoa Crispy Tacos</th>\n",
              "      <td>[11.75, 9.25, 11.48, 8.99]</td>\n",
              "    </tr>\n",
              "    <tr>\n",
              "      <th>Barbacoa Salad Bowl</th>\n",
              "      <td>[11.89, 9.39]</td>\n",
              "    </tr>\n",
              "    <tr>\n",
              "      <th>Barbacoa Soft Tacos</th>\n",
              "      <td>[9.25, 8.99, 11.75, 11.48]</td>\n",
              "    </tr>\n",
              "    <tr>\n",
              "      <th>Bottled Water</th>\n",
              "      <td>[1.09, 1.5]</td>\n",
              "    </tr>\n",
              "    <tr>\n",
              "      <th>Bowl</th>\n",
              "      <td>7.4</td>\n",
              "    </tr>\n",
              "    <tr>\n",
              "      <th>Burrito</th>\n",
              "      <td>7.4</td>\n",
              "    </tr>\n",
              "    <tr>\n",
              "      <th>Canned Soda</th>\n",
              "      <td>1.09</td>\n",
              "    </tr>\n",
              "    <tr>\n",
              "      <th>Canned Soft Drink</th>\n",
              "      <td>1.25</td>\n",
              "    </tr>\n",
              "    <tr>\n",
              "      <th>Carnitas Bowl</th>\n",
              "      <td>[8.99, 11.75, 9.25, 11.48, 11.08]</td>\n",
              "    </tr>\n",
              "    <tr>\n",
              "      <th>Carnitas Burrito</th>\n",
              "      <td>[8.99, 9.25, 11.75, 11.48, 11.08, 8.69]</td>\n",
              "    </tr>\n",
              "    <tr>\n",
              "      <th>Carnitas Crispy Tacos</th>\n",
              "      <td>[9.25, 11.75, 8.99]</td>\n",
              "    </tr>\n",
              "    <tr>\n",
              "      <th>Carnitas Salad</th>\n",
              "      <td>8.99</td>\n",
              "    </tr>\n",
              "    <tr>\n",
              "      <th>Carnitas Salad Bowl</th>\n",
              "      <td>[11.89, 9.39]</td>\n",
              "    </tr>\n",
              "    <tr>\n",
              "      <th>Carnitas Soft Tacos</th>\n",
              "      <td>[9.25, 8.99, 11.75]</td>\n",
              "    </tr>\n",
              "    <tr>\n",
              "      <th>Chicken Bowl</th>\n",
              "      <td>[8.49, 10.98, 11.25, 8.75, 8.19, 10.58, 8.5]</td>\n",
              "    </tr>\n",
              "    <tr>\n",
              "      <th>Chicken Burrito</th>\n",
              "      <td>[8.49, 10.98, 8.75, 11.25, 10.58, 8.19]</td>\n",
              "    </tr>\n",
              "    <tr>\n",
              "      <th>Chicken Crispy Tacos</th>\n",
              "      <td>[8.75, 11.25, 8.49, 10.98]</td>\n",
              "    </tr>\n",
              "    <tr>\n",
              "      <th>Chicken Salad</th>\n",
              "      <td>[10.98, 8.49, 8.19]</td>\n",
              "    </tr>\n",
              "    <tr>\n",
              "      <th>Chicken Salad Bowl</th>\n",
              "      <td>[8.75, 11.25]</td>\n",
              "    </tr>\n",
              "    <tr>\n",
              "      <th>Chicken Soft Tacos</th>\n",
              "      <td>[8.75, 11.25, 8.49, 10.98]</td>\n",
              "    </tr>\n",
              "    <tr>\n",
              "      <th>Chips</th>\n",
              "      <td>[2.15, 1.99]</td>\n",
              "    </tr>\n",
              "    <tr>\n",
              "      <th>Chips and Fresh Tomato Salsa</th>\n",
              "      <td>[2.39, 2.95, 2.29]</td>\n",
              "    </tr>\n",
              "    <tr>\n",
              "      <th>Chips and Guacamole</th>\n",
              "      <td>[4.45, 3.99, 4.0, 3.89, 4.25]</td>\n",
              "    </tr>\n",
              "    <tr>\n",
              "      <th>Chips and Mild Fresh Tomato Salsa</th>\n",
              "      <td>3</td>\n",
              "    </tr>\n",
              "    <tr>\n",
              "      <th>Chips and Roasted Chili Corn Salsa</th>\n",
              "      <td>2.95</td>\n",
              "    </tr>\n",
              "    <tr>\n",
              "      <th>Chips and Roasted Chili-Corn Salsa</th>\n",
              "      <td>2.39</td>\n",
              "    </tr>\n",
              "    <tr>\n",
              "      <th>Chips and Tomatillo Green Chili Salsa</th>\n",
              "      <td>2.95</td>\n",
              "    </tr>\n",
              "    <tr>\n",
              "      <th>Chips and Tomatillo Red Chili Salsa</th>\n",
              "      <td>2.95</td>\n",
              "    </tr>\n",
              "    <tr>\n",
              "      <th>Chips and Tomatillo-Green Chili Salsa</th>\n",
              "      <td>2.39</td>\n",
              "    </tr>\n",
              "    <tr>\n",
              "      <th>Chips and Tomatillo-Red Chili Salsa</th>\n",
              "      <td>2.39</td>\n",
              "    </tr>\n",
              "    <tr>\n",
              "      <th>Crispy Tacos</th>\n",
              "      <td>7.4</td>\n",
              "    </tr>\n",
              "    <tr>\n",
              "      <th>Izze</th>\n",
              "      <td>3.39</td>\n",
              "    </tr>\n",
              "    <tr>\n",
              "      <th>Nantucket Nectar</th>\n",
              "      <td>3.39</td>\n",
              "    </tr>\n",
              "    <tr>\n",
              "      <th>Salad</th>\n",
              "      <td>7.4</td>\n",
              "    </tr>\n",
              "    <tr>\n",
              "      <th>Side of Chips</th>\n",
              "      <td>1.69</td>\n",
              "    </tr>\n",
              "    <tr>\n",
              "      <th>Steak Bowl</th>\n",
              "      <td>[8.99, 11.75, 11.48, 9.25, 11.08, 8.69]</td>\n",
              "    </tr>\n",
              "    <tr>\n",
              "      <th>Steak Burrito</th>\n",
              "      <td>[11.75, 9.25, 8.99, 11.48, 11.08, 8.69]</td>\n",
              "    </tr>\n",
              "    <tr>\n",
              "      <th>Steak Crispy Tacos</th>\n",
              "      <td>[9.25, 8.99, 8.69, 11.75]</td>\n",
              "    </tr>\n",
              "    <tr>\n",
              "      <th>Steak Salad</th>\n",
              "      <td>[8.99, 8.69]</td>\n",
              "    </tr>\n",
              "    <tr>\n",
              "      <th>Steak Salad Bowl</th>\n",
              "      <td>[11.89, 9.39]</td>\n",
              "    </tr>\n",
              "    <tr>\n",
              "      <th>Steak Soft Tacos</th>\n",
              "      <td>[9.25, 8.99, 11.75, 11.48]</td>\n",
              "    </tr>\n",
              "    <tr>\n",
              "      <th>Veggie Bowl</th>\n",
              "      <td>[11.25, 8.49, 8.75, 10.98]</td>\n",
              "    </tr>\n",
              "    <tr>\n",
              "      <th>Veggie Burrito</th>\n",
              "      <td>[11.25, 8.49, 10.98, 8.75]</td>\n",
              "    </tr>\n",
              "    <tr>\n",
              "      <th>Veggie Crispy Tacos</th>\n",
              "      <td>8.49</td>\n",
              "    </tr>\n",
              "    <tr>\n",
              "      <th>Veggie Salad</th>\n",
              "      <td>8.49</td>\n",
              "    </tr>\n",
              "    <tr>\n",
              "      <th>Veggie Salad Bowl</th>\n",
              "      <td>[11.25, 8.75]</td>\n",
              "    </tr>\n",
              "    <tr>\n",
              "      <th>Veggie Soft Tacos</th>\n",
              "      <td>[11.25, 8.75, 8.49]</td>\n",
              "    </tr>\n",
              "  </tbody>\n",
              "</table>\n",
              "</div>"
            ],
            "text/plain": [
              "                                                                     price_per_item\n",
              "item_name                                                                          \n",
              "6 Pack Soft Drink                                                              6.49\n",
              "Barbacoa Bowl                               [11.75, 9.25, 8.99, 11.48, 8.69, 11.49]\n",
              "Barbacoa Burrito                            [8.99, 9.25, 11.75, 11.08, 8.69, 11.48]\n",
              "Barbacoa Crispy Tacos                                    [11.75, 9.25, 11.48, 8.99]\n",
              "Barbacoa Salad Bowl                                                   [11.89, 9.39]\n",
              "Barbacoa Soft Tacos                                      [9.25, 8.99, 11.75, 11.48]\n",
              "Bottled Water                                                           [1.09, 1.5]\n",
              "Bowl                                                                            7.4\n",
              "Burrito                                                                         7.4\n",
              "Canned Soda                                                                    1.09\n",
              "Canned Soft Drink                                                              1.25\n",
              "Carnitas Bowl                                     [8.99, 11.75, 9.25, 11.48, 11.08]\n",
              "Carnitas Burrito                            [8.99, 9.25, 11.75, 11.48, 11.08, 8.69]\n",
              "Carnitas Crispy Tacos                                           [9.25, 11.75, 8.99]\n",
              "Carnitas Salad                                                                 8.99\n",
              "Carnitas Salad Bowl                                                   [11.89, 9.39]\n",
              "Carnitas Soft Tacos                                             [9.25, 8.99, 11.75]\n",
              "Chicken Bowl                           [8.49, 10.98, 11.25, 8.75, 8.19, 10.58, 8.5]\n",
              "Chicken Burrito                             [8.49, 10.98, 8.75, 11.25, 10.58, 8.19]\n",
              "Chicken Crispy Tacos                                     [8.75, 11.25, 8.49, 10.98]\n",
              "Chicken Salad                                                   [10.98, 8.49, 8.19]\n",
              "Chicken Salad Bowl                                                    [8.75, 11.25]\n",
              "Chicken Soft Tacos                                       [8.75, 11.25, 8.49, 10.98]\n",
              "Chips                                                                  [2.15, 1.99]\n",
              "Chips and Fresh Tomato Salsa                                     [2.39, 2.95, 2.29]\n",
              "Chips and Guacamole                                   [4.45, 3.99, 4.0, 3.89, 4.25]\n",
              "Chips and Mild Fresh Tomato Salsa                                                 3\n",
              "Chips and Roasted Chili Corn Salsa                                             2.95\n",
              "Chips and Roasted Chili-Corn Salsa                                             2.39\n",
              "Chips and Tomatillo Green Chili Salsa                                          2.95\n",
              "Chips and Tomatillo Red Chili Salsa                                            2.95\n",
              "Chips and Tomatillo-Green Chili Salsa                                          2.39\n",
              "Chips and Tomatillo-Red Chili Salsa                                            2.39\n",
              "Crispy Tacos                                                                    7.4\n",
              "Izze                                                                           3.39\n",
              "Nantucket Nectar                                                               3.39\n",
              "Salad                                                                           7.4\n",
              "Side of Chips                                                                  1.69\n",
              "Steak Bowl                                  [8.99, 11.75, 11.48, 9.25, 11.08, 8.69]\n",
              "Steak Burrito                               [11.75, 9.25, 8.99, 11.48, 11.08, 8.69]\n",
              "Steak Crispy Tacos                                        [9.25, 8.99, 8.69, 11.75]\n",
              "Steak Salad                                                            [8.99, 8.69]\n",
              "Steak Salad Bowl                                                      [11.89, 9.39]\n",
              "Steak Soft Tacos                                         [9.25, 8.99, 11.75, 11.48]\n",
              "Veggie Bowl                                              [11.25, 8.49, 8.75, 10.98]\n",
              "Veggie Burrito                                           [11.25, 8.49, 10.98, 8.75]\n",
              "Veggie Crispy Tacos                                                            8.49\n",
              "Veggie Salad                                                                   8.49\n",
              "Veggie Salad Bowl                                                     [11.25, 8.75]\n",
              "Veggie Soft Tacos                                               [11.25, 8.75, 8.49]"
            ]
          },
          "metadata": {},
          "execution_count": 30
        }
      ]
    }
  ]
}